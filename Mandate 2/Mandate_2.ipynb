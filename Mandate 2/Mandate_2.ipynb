{
  "nbformat": 4,
  "nbformat_minor": 0,
  "metadata": {
    "colab": {
      "name": "Mandate-2.ipynb",
      "provenance": []
    },
    "kernelspec": {
      "name": "python3",
      "display_name": "Python 3"
    },
    "language_info": {
      "name": "python"
    }
  },
  "cells": [
    {
      "cell_type": "markdown",
      "source": [
        "# Mandate-2\n",
        "Pratyush Ranjan IMT2019065\\\n",
        "Archit Sangal IMT2019012"
      ],
      "metadata": {
        "id": "EeZsmKAftZl_"
      }
    },
    {
      "cell_type": "markdown",
      "source": [
        "## Downloading and importing necessary packages"
      ],
      "metadata": {
        "id": "2mq40MOsQ4BB"
      }
    },
    {
      "cell_type": "markdown",
      "source": [
        "### Downloading nltk utilities"
      ],
      "metadata": {
        "id": "h5PwfT41bmfz"
      }
    },
    {
      "cell_type": "code",
      "source": [
        "import nltk\n",
        "nltk.download('all')"
      ],
      "metadata": {
        "id": "BfAPncAY5Z3I"
      },
      "execution_count": null,
      "outputs": []
    },
    {
      "cell_type": "markdown",
      "source": [
        "### Downloading contractions library for expanding contractions"
      ],
      "metadata": {
        "id": "TRoAIlGgbr5-"
      }
    },
    {
      "cell_type": "code",
      "source": [
        "!pip install contractions"
      ],
      "metadata": {
        "colab": {
          "base_uri": "https://localhost:8080/"
        },
        "id": "DvuYYs0k_Q39",
        "outputId": "56740ecd-fdde-469a-9ef5-8471ea11e8bf"
      },
      "execution_count": null,
      "outputs": [
        {
          "output_type": "stream",
          "name": "stdout",
          "text": [
            "Collecting contractions\n",
            "  Downloading contractions-0.1.68-py2.py3-none-any.whl (8.1 kB)\n",
            "Collecting textsearch>=0.0.21\n",
            "  Downloading textsearch-0.0.21-py2.py3-none-any.whl (7.5 kB)\n",
            "Collecting anyascii\n",
            "  Downloading anyascii-0.3.1-py3-none-any.whl (287 kB)\n",
            "\u001b[?25l\r\u001b[K     |█▏                              | 10 kB 26.3 MB/s eta 0:00:01\r\u001b[K     |██▎                             | 20 kB 30.1 MB/s eta 0:00:01\r\u001b[K     |███▍                            | 30 kB 30.9 MB/s eta 0:00:01\r\u001b[K     |████▋                           | 40 kB 18.3 MB/s eta 0:00:01\r\u001b[K     |█████▊                          | 51 kB 12.9 MB/s eta 0:00:01\r\u001b[K     |██████▉                         | 61 kB 14.8 MB/s eta 0:00:01\r\u001b[K     |████████                        | 71 kB 14.2 MB/s eta 0:00:01\r\u001b[K     |█████████▏                      | 81 kB 15.5 MB/s eta 0:00:01\r\u001b[K     |██████████▎                     | 92 kB 17.1 MB/s eta 0:00:01\r\u001b[K     |███████████▍                    | 102 kB 16.2 MB/s eta 0:00:01\r\u001b[K     |████████████▌                   | 112 kB 16.2 MB/s eta 0:00:01\r\u001b[K     |█████████████▊                  | 122 kB 16.2 MB/s eta 0:00:01\r\u001b[K     |██████████████▉                 | 133 kB 16.2 MB/s eta 0:00:01\r\u001b[K     |████████████████                | 143 kB 16.2 MB/s eta 0:00:01\r\u001b[K     |█████████████████               | 153 kB 16.2 MB/s eta 0:00:01\r\u001b[K     |██████████████████▎             | 163 kB 16.2 MB/s eta 0:00:01\r\u001b[K     |███████████████████▍            | 174 kB 16.2 MB/s eta 0:00:01\r\u001b[K     |████████████████████▌           | 184 kB 16.2 MB/s eta 0:00:01\r\u001b[K     |█████████████████████▋          | 194 kB 16.2 MB/s eta 0:00:01\r\u001b[K     |██████████████████████▉         | 204 kB 16.2 MB/s eta 0:00:01\r\u001b[K     |████████████████████████        | 215 kB 16.2 MB/s eta 0:00:01\r\u001b[K     |█████████████████████████       | 225 kB 16.2 MB/s eta 0:00:01\r\u001b[K     |██████████████████████████▏     | 235 kB 16.2 MB/s eta 0:00:01\r\u001b[K     |███████████████████████████▍    | 245 kB 16.2 MB/s eta 0:00:01\r\u001b[K     |████████████████████████████▌   | 256 kB 16.2 MB/s eta 0:00:01\r\u001b[K     |█████████████████████████████▋  | 266 kB 16.2 MB/s eta 0:00:01\r\u001b[K     |██████████████████████████████▉ | 276 kB 16.2 MB/s eta 0:00:01\r\u001b[K     |████████████████████████████████| 286 kB 16.2 MB/s eta 0:00:01\r\u001b[K     |████████████████████████████████| 287 kB 16.2 MB/s \n",
            "\u001b[?25hCollecting pyahocorasick\n",
            "  Downloading pyahocorasick-1.4.4-cp37-cp37m-manylinux_2_17_x86_64.manylinux2014_x86_64.whl (106 kB)\n",
            "\u001b[?25l\r\u001b[K     |███                             | 10 kB 18.8 MB/s eta 0:00:01\r\u001b[K     |██████▏                         | 20 kB 28.2 MB/s eta 0:00:01\r\u001b[K     |█████████▎                      | 30 kB 37.3 MB/s eta 0:00:01\r\u001b[K     |████████████▎                   | 40 kB 44.1 MB/s eta 0:00:01\r\u001b[K     |███████████████▍                | 51 kB 49.1 MB/s eta 0:00:01\r\u001b[K     |██████████████████▌             | 61 kB 52.2 MB/s eta 0:00:01\r\u001b[K     |█████████████████████▌          | 71 kB 54.5 MB/s eta 0:00:01\r\u001b[K     |████████████████████████▋       | 81 kB 56.8 MB/s eta 0:00:01\r\u001b[K     |███████████████████████████▊    | 92 kB 60.3 MB/s eta 0:00:01\r\u001b[K     |██████████████████████████████▊ | 102 kB 63.2 MB/s eta 0:00:01\r\u001b[K     |████████████████████████████████| 106 kB 63.2 MB/s \n",
            "\u001b[?25hInstalling collected packages: pyahocorasick, anyascii, textsearch, contractions\n",
            "Successfully installed anyascii-0.3.1 contractions-0.1.68 pyahocorasick-1.4.4 textsearch-0.0.21\n"
          ]
        }
      ]
    },
    {
      "cell_type": "markdown",
      "source": [
        "### Importing required libraries"
      ],
      "metadata": {
        "id": "KNNl_69pb21a"
      }
    },
    {
      "cell_type": "code",
      "source": [
        "import pandas as pd\n",
        "import numpy as np\n",
        "from textblob import TextBlob\n",
        "import contractions\n",
        "import re\n",
        "from bs4 import BeautifulSoup\n",
        "from nltk.metrics.distance import jaccard_distance\n",
        "from nltk.util import ngrams\n",
        "from gensim.models import Word2Vec\n",
        "import multiprocessing\n",
        "from time import time\n",
        "from sklearn.cluster import KMeans"
      ],
      "metadata": {
        "id": "RR3g1kPpSHTg"
      },
      "execution_count": null,
      "outputs": []
    },
    {
      "cell_type": "markdown",
      "source": [
        "## Function to remove punctuations\n",
        "\n",
        "This function uses TextBlob to remove punctuations from the given sentence.\n",
        "\n",
        "Input: @nifty crashing heavily, by 20%, due to situation in UKR! #sell #bearish\n",
        "\n",
        "Output: nifty crashing heavily by 20 due to situation in UKR sell bearish"
      ],
      "metadata": {
        "id": "vj8H4uorRBS5"
      }
    },
    {
      "cell_type": "code",
      "source": [
        "def remove_punctuations(text):\n",
        "    text_blob = TextBlob(text)\n",
        "    return ' '.join(text_blob.words)\n",
        "\n",
        "remove_punctuations(\"@nifty crashing heavily, by 20%, due to situation in UKR! #sell #bearish\")"
      ],
      "metadata": {
        "colab": {
          "base_uri": "https://localhost:8080/",
          "height": 35
        },
        "id": "4s63dOWSTs7g",
        "outputId": "89f657b6-8a29-402d-f4f4-bfc535f4778c"
      },
      "execution_count": null,
      "outputs": [
        {
          "output_type": "execute_result",
          "data": {
            "text/plain": [
              "'nifty crashing heavily by 20 due to situation in UKR sell bearish'"
            ],
            "application/vnd.google.colaboratory.intrinsic+json": {
              "type": "string"
            }
          },
          "metadata": {},
          "execution_count": 4
        }
      ]
    },
    {
      "cell_type": "markdown",
      "source": [
        "## Function to remove stopwords\n",
        "\n",
        "Most common words like a, an, the, by, etc. will be removed through this function.\n",
        "\n",
        "Input: SBI shares fell by nearly 20% after government announced a new bill proposing increased land taxes.\n",
        "\n",
        "Output: SBI shares fell nearly 20% government announced new bill proposing increased land taxes."
      ],
      "metadata": {
        "id": "lTh_dolFRrqz"
      }
    },
    {
      "cell_type": "code",
      "source": [
        "stopwords = nltk.corpus.stopwords.words('english')\n",
        "\n",
        "def remove_stopwords(text):\n",
        "    return ' '.join([word for word in text.split() if word.lower() not in stopwords])\n",
        "\n",
        "remove_stopwords(\"SBI shares fell by nearly 20% after government announced a new bill proposing increased land taxes.\")"
      ],
      "metadata": {
        "colab": {
          "base_uri": "https://localhost:8080/",
          "height": 35
        },
        "id": "LcweyUph5xVN",
        "outputId": "2ffaaeef-48e0-4c8a-d82a-4463394ea44a"
      },
      "execution_count": null,
      "outputs": [
        {
          "output_type": "execute_result",
          "data": {
            "text/plain": [
              "'SBI shares fell nearly 20% government announced new bill proposing increased land taxes.'"
            ],
            "application/vnd.google.colaboratory.intrinsic+json": {
              "type": "string"
            }
          },
          "metadata": {},
          "execution_count": 5
        }
      ]
    },
    {
      "cell_type": "markdown",
      "source": [
        "## Function to expand contractions\n",
        "\n",
        "This function expands the contractions in a sentence, such as converting I'll to I will, We'd to We would and so on.\n",
        "\n",
        "Input: If the govn **hadn't** released this surprise bill, **I'd** be sitting with my profits. But unfortunately **I'll** have to sell all of it now. **It's** totally disappointing.\n",
        "\n",
        "Output: If the govn **had not** released this surprise bill, **I would** be sitting with my milllions. But unfortunately **I will** have to sell all of it now. **It is** totally disappointing.\n",
        "\n"
      ],
      "metadata": {
        "id": "wgmbkDjuSEuS"
      }
    },
    {
      "cell_type": "code",
      "source": [
        "def expand_contractions(text):\n",
        "    return ' '.join([contractions.fix(word) for word in text.split()])\n",
        "\n",
        "expand_contractions(\"If the govn hadn't released this surprise bill, I'd be sitting with my profits. But unfortunately I'll\\\n",
        " have to sell all of it now. It's totally disappointing.\")"
      ],
      "metadata": {
        "colab": {
          "base_uri": "https://localhost:8080/",
          "height": 53
        },
        "id": "VUBjVA4g_JGT",
        "outputId": "ab52311a-a4fd-490c-a2bf-1c279c961d28"
      },
      "execution_count": null,
      "outputs": [
        {
          "output_type": "execute_result",
          "data": {
            "text/plain": [
              "'If the govn had not released this surprise bill, I would be sitting with my milllions. But unfortunately I will have to sell all of it now. It is totally disappointing.'"
            ],
            "application/vnd.google.colaboratory.intrinsic+json": {
              "type": "string"
            }
          },
          "metadata": {},
          "execution_count": 6
        }
      ]
    },
    {
      "cell_type": "markdown",
      "source": [
        "## Function to lemmatise text\n",
        "This function uses wordnet lemmatiser to lemmatise a given text and it uses verb as part of the speech tag.\n",
        "\n",
        "Input: The stock market is going to rocket sky high today because the penny stocks are shooting up.\n",
        "\n",
        "Output: The stock market be go to rocket sky high today because the penny stock be shoot up."
      ],
      "metadata": {
        "id": "cAjE7laKS-1B"
      }
    },
    {
      "cell_type": "code",
      "source": [
        "lemmatizer = nltk.stem.wordnet.WordNetLemmatizer()\n",
        "\n",
        "def lemmatize(text):\n",
        "    return ' '.join([lemmatizer.lemmatize(word, 'v') for word in text.split()])\n",
        "\n",
        "lemmatize(\"The stock market is going to rocket sky high today because the penny stocks are shooting up.\")"
      ],
      "metadata": {
        "colab": {
          "base_uri": "https://localhost:8080/",
          "height": 35
        },
        "id": "gstgD1qbBvZi",
        "outputId": "3d901e96-7c6b-414d-d14b-915e14a55ba5"
      },
      "execution_count": null,
      "outputs": [
        {
          "output_type": "execute_result",
          "data": {
            "text/plain": [
              "'The stock market be go to rocket sky high today because the penny stock be shoot up.'"
            ],
            "application/vnd.google.colaboratory.intrinsic+json": {
              "type": "string"
            }
          },
          "metadata": {},
          "execution_count": 7
        }
      ]
    },
    {
      "cell_type": "markdown",
      "source": [
        "## Function to clean text\n",
        "\n",
        "This function cleans a given text in four steps - \n",
        "\n",
        "\n",
        "1.   Removes any @ tags.\n",
        "2.   Removes any web links.\n",
        "3.   Removes characters other than alphabets, '?' and '!'.\n",
        "4.   Removes extra spaces.\n",
        "\n",
        "Input: What?    I am surprised!   Penny stocks are making people millionares in less than 24hrs.  See yourself! https://youtube.com\n",
        "/pennystocks\n",
        "\n",
        "Output: What? I am surprised! Penny stocks are making people millionares in less than hrs. See yourself!\n",
        "\n"
      ],
      "metadata": {
        "id": "lTRR3AMzTtFg"
      }
    },
    {
      "cell_type": "code",
      "source": [
        "# 1. Remove tags eg: @pratyush\n",
        "# 2. Remove web links eg: https://www.yahoo.com/news/stocks\n",
        "# 3. Remove characters other than alphabets and expression symbols like ?, !\n",
        "# 4. Remove extra spaces\n",
        "def clean(text):\n",
        "    text = BeautifulSoup(text, 'lxml').get_text()\n",
        "    text = re.sub(r\"@[A-Za-z0-9]+\", ' ', text)\n",
        "    text = re.sub(r\"https?://[A-Za-z0-9./]+\", ' ', text)\n",
        "    text = re.sub(r\"[^a-zA-Z.!?']\", ' ', text)\n",
        "    text = re.sub(r\" +\", ' ', text)\n",
        "\n",
        "    return text\n",
        "\n",
        "clean(\"What?   I am surprised!   Penny stocks are making people millionares in less than 24hrs.  See yourself! https://youtube.com\\\n",
        "/pennystocks\")"
      ],
      "metadata": {
        "colab": {
          "base_uri": "https://localhost:8080/",
          "height": 35
        },
        "id": "4Gkdb2yGIR6N",
        "outputId": "41bfa196-475b-479d-bece-11a0733d0712"
      },
      "execution_count": null,
      "outputs": [
        {
          "output_type": "execute_result",
          "data": {
            "text/plain": [
              "'What? I am surprised! Penny stocks are making people millionares in less than hrs. See yourself! '"
            ],
            "application/vnd.google.colaboratory.intrinsic+json": {
              "type": "string"
            }
          },
          "metadata": {},
          "execution_count": 8
        }
      ]
    },
    {
      "cell_type": "markdown",
      "source": [
        "## Function for spelling correction using Jaccardian Distance\n",
        "\n",
        "When provided a word, this function searches the word in the list of correct words from nltk's word corpus. If no match is found, then the function queries through all the words from the corpus having the same starting letter as the provided word and compares the two using jaccardian distance(ngrams=2). The word with the least jaccardian distance is reutrned as the correct word.\n",
        "\n",
        "Input: I am **delightede** to **anoucnce** **thate** our **comapany** is now listed on Stock **mareket**.\n",
        "\n",
        "Output: I am **delighted** to **announce** **that** our **company** is now listed on Stock **market**."
      ],
      "metadata": {
        "id": "clVixumhV3ZO"
      }
    },
    {
      "cell_type": "code",
      "source": [
        "# Spelling correction using Jaccardian Distance\n",
        "\n",
        "correct_words = nltk.corpus.words.words()\n",
        "\n",
        "def correct_spellings_jaccard(text):\n",
        "    word_list = text.split()\n",
        "\n",
        "    for i, word in enumerate(word_list):\n",
        "        word = word.lower()\n",
        "        if word not in correct_words:\n",
        "            scores = {}\n",
        "            for w in correct_words:\n",
        "                if w[0] == word[0]:\n",
        "                    try:\n",
        "                        scores[w] = jaccard_distance( set(ngrams(word, 2)), set(ngrams(w, 2)) )\n",
        "                    except:\n",
        "                        continue\n",
        "            word_list[i] = sorted(scores.items(), key = lambda item: item[1])[0][0] if len(scores) > 0 else word\n",
        "    return ' '.join(word_list)\n",
        "\n",
        "correct_spellings_jaccard('I am delightede to anoucnce thate our comapany is now listed on Stock mareket')"
      ],
      "metadata": {
        "colab": {
          "base_uri": "https://localhost:8080/",
          "height": 35
        },
        "id": "4PNkoOZveGxO",
        "outputId": "710f6cc5-afe8-46c0-8558-20a0cf197f67"
      },
      "execution_count": null,
      "outputs": [
        {
          "output_type": "execute_result",
          "data": {
            "text/plain": [
              "'I am delighted to announce that our company is now listed on Stock market'"
            ],
            "application/vnd.google.colaboratory.intrinsic+json": {
              "type": "string"
            }
          },
          "metadata": {},
          "execution_count": 9
        }
      ]
    },
    {
      "cell_type": "markdown",
      "source": [
        "## Text Processing Pipeline\n",
        "\n",
        "Pipeline function to process a given text. It has a total of 9 steps - \n",
        "\n",
        "\n",
        "1.   Converting text to lowercase\n",
        "2.   Cleaning text using clean() function\n",
        "3.   Removing punctuations using remove_punctuations() function\n",
        "4.   Expanding contractions using expand_contractions() function\n",
        "5.   Correcting spellings using jaccardian distance function\n",
        "6.   Removing stopwords using remove_stopwords() function\n",
        "7.   Lemmatising text using lemmatize() function\n",
        "8.   Cleaning text again using clean() to remove some extra spaces created\n",
        "9.   Removing instances of 's in the text\n"
      ],
      "metadata": {
        "id": "tjkmwqa2Xn_5"
      }
    },
    {
      "cell_type": "code",
      "source": [
        "def pipeline(text):\n",
        "    text = text.lower()\n",
        "    text = clean(text)\n",
        "    text = remove_punctuations(text)\n",
        "    text = expand_contractions(text)\n",
        "    #text = correct_spellings_jaccard(text)\n",
        "    text = remove_stopwords(text)\n",
        "    text = lemmatize(text)\n",
        "    text = clean(text)\n",
        "    text = text.replace('\\'s', '')\n",
        "\n",
        "    return text"
      ],
      "metadata": {
        "id": "9yfM75hE6dLI"
      },
      "execution_count": null,
      "outputs": []
    },
    {
      "cell_type": "markdown",
      "source": [
        "## Reading financial news headlines data"
      ],
      "metadata": {
        "id": "wPkscp4fZFqn"
      }
    },
    {
      "cell_type": "code",
      "source": [
        "data = pd.read_csv('/content/drive/MyDrive/NLP/financial_data/all-data.csv', names = ['labels','messages'], encoding='ISO-8859-1').sample(frac=1)\n",
        "data"
      ],
      "metadata": {
        "colab": {
          "base_uri": "https://localhost:8080/",
          "height": 424
        },
        "id": "0tDmPgoRBiOx",
        "outputId": "b5deecce-b10a-4b55-98e3-85980f4edf6e"
      },
      "execution_count": null,
      "outputs": [
        {
          "output_type": "execute_result",
          "data": {
            "text/plain": [
              "        labels                                           messages\n",
              "4288   neutral  When cruising , the revs fall as less engine o...\n",
              "2075  positive  According to M-real 's CEO , Mikko Helander , ...\n",
              "4815  negative  Operating profit excluding non-recurring items...\n",
              "3421   neutral  This corrensponds to 4.628 percent of Okmetic ...\n",
              "3915   neutral  The total capacity of the factory will be appr...\n",
              "...        ...                                                ...\n",
              "3043   neutral  Neste Oil will publish its third quarter 2008 ...\n",
              "2363   neutral  A meeting of Glisten shareholders to vote on t...\n",
              "568   positive  With this appointment Kaupthing Bank aims to f...\n",
              "4350   neutral  The floor area of the Yliopistonrinne project ...\n",
              "2822   neutral  At the end of March 2009 , the company 's loan...\n",
              "\n",
              "[4846 rows x 2 columns]"
            ],
            "text/html": [
              "\n",
              "  <div id=\"df-fffa852a-cdd5-45a3-bceb-ebfc7eaa97bd\">\n",
              "    <div class=\"colab-df-container\">\n",
              "      <div>\n",
              "<style scoped>\n",
              "    .dataframe tbody tr th:only-of-type {\n",
              "        vertical-align: middle;\n",
              "    }\n",
              "\n",
              "    .dataframe tbody tr th {\n",
              "        vertical-align: top;\n",
              "    }\n",
              "\n",
              "    .dataframe thead th {\n",
              "        text-align: right;\n",
              "    }\n",
              "</style>\n",
              "<table border=\"1\" class=\"dataframe\">\n",
              "  <thead>\n",
              "    <tr style=\"text-align: right;\">\n",
              "      <th></th>\n",
              "      <th>labels</th>\n",
              "      <th>messages</th>\n",
              "    </tr>\n",
              "  </thead>\n",
              "  <tbody>\n",
              "    <tr>\n",
              "      <th>4288</th>\n",
              "      <td>neutral</td>\n",
              "      <td>When cruising , the revs fall as less engine o...</td>\n",
              "    </tr>\n",
              "    <tr>\n",
              "      <th>2075</th>\n",
              "      <td>positive</td>\n",
              "      <td>According to M-real 's CEO , Mikko Helander , ...</td>\n",
              "    </tr>\n",
              "    <tr>\n",
              "      <th>4815</th>\n",
              "      <td>negative</td>\n",
              "      <td>Operating profit excluding non-recurring items...</td>\n",
              "    </tr>\n",
              "    <tr>\n",
              "      <th>3421</th>\n",
              "      <td>neutral</td>\n",
              "      <td>This corrensponds to 4.628 percent of Okmetic ...</td>\n",
              "    </tr>\n",
              "    <tr>\n",
              "      <th>3915</th>\n",
              "      <td>neutral</td>\n",
              "      <td>The total capacity of the factory will be appr...</td>\n",
              "    </tr>\n",
              "    <tr>\n",
              "      <th>...</th>\n",
              "      <td>...</td>\n",
              "      <td>...</td>\n",
              "    </tr>\n",
              "    <tr>\n",
              "      <th>3043</th>\n",
              "      <td>neutral</td>\n",
              "      <td>Neste Oil will publish its third quarter 2008 ...</td>\n",
              "    </tr>\n",
              "    <tr>\n",
              "      <th>2363</th>\n",
              "      <td>neutral</td>\n",
              "      <td>A meeting of Glisten shareholders to vote on t...</td>\n",
              "    </tr>\n",
              "    <tr>\n",
              "      <th>568</th>\n",
              "      <td>positive</td>\n",
              "      <td>With this appointment Kaupthing Bank aims to f...</td>\n",
              "    </tr>\n",
              "    <tr>\n",
              "      <th>4350</th>\n",
              "      <td>neutral</td>\n",
              "      <td>The floor area of the Yliopistonrinne project ...</td>\n",
              "    </tr>\n",
              "    <tr>\n",
              "      <th>2822</th>\n",
              "      <td>neutral</td>\n",
              "      <td>At the end of March 2009 , the company 's loan...</td>\n",
              "    </tr>\n",
              "  </tbody>\n",
              "</table>\n",
              "<p>4846 rows × 2 columns</p>\n",
              "</div>\n",
              "      <button class=\"colab-df-convert\" onclick=\"convertToInteractive('df-fffa852a-cdd5-45a3-bceb-ebfc7eaa97bd')\"\n",
              "              title=\"Convert this dataframe to an interactive table.\"\n",
              "              style=\"display:none;\">\n",
              "        \n",
              "  <svg xmlns=\"http://www.w3.org/2000/svg\" height=\"24px\"viewBox=\"0 0 24 24\"\n",
              "       width=\"24px\">\n",
              "    <path d=\"M0 0h24v24H0V0z\" fill=\"none\"/>\n",
              "    <path d=\"M18.56 5.44l.94 2.06.94-2.06 2.06-.94-2.06-.94-.94-2.06-.94 2.06-2.06.94zm-11 1L8.5 8.5l.94-2.06 2.06-.94-2.06-.94L8.5 2.5l-.94 2.06-2.06.94zm10 10l.94 2.06.94-2.06 2.06-.94-2.06-.94-.94-2.06-.94 2.06-2.06.94z\"/><path d=\"M17.41 7.96l-1.37-1.37c-.4-.4-.92-.59-1.43-.59-.52 0-1.04.2-1.43.59L10.3 9.45l-7.72 7.72c-.78.78-.78 2.05 0 2.83L4 21.41c.39.39.9.59 1.41.59.51 0 1.02-.2 1.41-.59l7.78-7.78 2.81-2.81c.8-.78.8-2.07 0-2.86zM5.41 20L4 18.59l7.72-7.72 1.47 1.35L5.41 20z\"/>\n",
              "  </svg>\n",
              "      </button>\n",
              "      \n",
              "  <style>\n",
              "    .colab-df-container {\n",
              "      display:flex;\n",
              "      flex-wrap:wrap;\n",
              "      gap: 12px;\n",
              "    }\n",
              "\n",
              "    .colab-df-convert {\n",
              "      background-color: #E8F0FE;\n",
              "      border: none;\n",
              "      border-radius: 50%;\n",
              "      cursor: pointer;\n",
              "      display: none;\n",
              "      fill: #1967D2;\n",
              "      height: 32px;\n",
              "      padding: 0 0 0 0;\n",
              "      width: 32px;\n",
              "    }\n",
              "\n",
              "    .colab-df-convert:hover {\n",
              "      background-color: #E2EBFA;\n",
              "      box-shadow: 0px 1px 2px rgba(60, 64, 67, 0.3), 0px 1px 3px 1px rgba(60, 64, 67, 0.15);\n",
              "      fill: #174EA6;\n",
              "    }\n",
              "\n",
              "    [theme=dark] .colab-df-convert {\n",
              "      background-color: #3B4455;\n",
              "      fill: #D2E3FC;\n",
              "    }\n",
              "\n",
              "    [theme=dark] .colab-df-convert:hover {\n",
              "      background-color: #434B5C;\n",
              "      box-shadow: 0px 1px 3px 1px rgba(0, 0, 0, 0.15);\n",
              "      filter: drop-shadow(0px 1px 2px rgba(0, 0, 0, 0.3));\n",
              "      fill: #FFFFFF;\n",
              "    }\n",
              "  </style>\n",
              "\n",
              "      <script>\n",
              "        const buttonEl =\n",
              "          document.querySelector('#df-fffa852a-cdd5-45a3-bceb-ebfc7eaa97bd button.colab-df-convert');\n",
              "        buttonEl.style.display =\n",
              "          google.colab.kernel.accessAllowed ? 'block' : 'none';\n",
              "\n",
              "        async function convertToInteractive(key) {\n",
              "          const element = document.querySelector('#df-fffa852a-cdd5-45a3-bceb-ebfc7eaa97bd');\n",
              "          const dataTable =\n",
              "            await google.colab.kernel.invokeFunction('convertToInteractive',\n",
              "                                                     [key], {});\n",
              "          if (!dataTable) return;\n",
              "\n",
              "          const docLinkHtml = 'Like what you see? Visit the ' +\n",
              "            '<a target=\"_blank\" href=https://colab.research.google.com/notebooks/data_table.ipynb>data table notebook</a>'\n",
              "            + ' to learn more about interactive tables.';\n",
              "          element.innerHTML = '';\n",
              "          dataTable['output_type'] = 'display_data';\n",
              "          await google.colab.output.renderOutput(dataTable, element);\n",
              "          const docLink = document.createElement('div');\n",
              "          docLink.innerHTML = docLinkHtml;\n",
              "          element.appendChild(docLink);\n",
              "        }\n",
              "      </script>\n",
              "    </div>\n",
              "  </div>\n",
              "  "
            ]
          },
          "metadata": {},
          "execution_count": 14
        }
      ]
    },
    {
      "cell_type": "markdown",
      "source": [
        "## Data Analysis"
      ],
      "metadata": {
        "id": "FqIJb7GrZL5U"
      }
    },
    {
      "cell_type": "markdown",
      "source": [
        "### Checking for null entries"
      ],
      "metadata": {
        "id": "5p7MkqbEZTdQ"
      }
    },
    {
      "cell_type": "code",
      "source": [
        "data.isnull().sum()"
      ],
      "metadata": {
        "colab": {
          "base_uri": "https://localhost:8080/"
        },
        "id": "Yek5ilNZC2OE",
        "outputId": "7c320037-845d-4f29-f9d6-39627b5de1c1"
      },
      "execution_count": null,
      "outputs": [
        {
          "output_type": "execute_result",
          "data": {
            "text/plain": [
              "labels      0\n",
              "messages    0\n",
              "dtype: int64"
            ]
          },
          "metadata": {},
          "execution_count": 16
        }
      ]
    },
    {
      "cell_type": "markdown",
      "source": [
        "### Analysing financial news headlines"
      ],
      "metadata": {
        "id": "T2lI5bYKZYFi"
      }
    },
    {
      "cell_type": "code",
      "source": [
        "data.messages"
      ],
      "metadata": {
        "colab": {
          "base_uri": "https://localhost:8080/"
        },
        "id": "Zc9LhyKoDG4A",
        "outputId": "15f12e5c-79ef-4a82-c908-ad48fd040f9d"
      },
      "execution_count": null,
      "outputs": [
        {
          "output_type": "execute_result",
          "data": {
            "text/plain": [
              "4288    When cruising , the revs fall as less engine o...\n",
              "2075    According to M-real 's CEO , Mikko Helander , ...\n",
              "4815    Operating profit excluding non-recurring items...\n",
              "3421    This corrensponds to 4.628 percent of Okmetic ...\n",
              "3915    The total capacity of the factory will be appr...\n",
              "                              ...                        \n",
              "3043    Neste Oil will publish its third quarter 2008 ...\n",
              "2363    A meeting of Glisten shareholders to vote on t...\n",
              "568     With this appointment Kaupthing Bank aims to f...\n",
              "4350    The floor area of the Yliopistonrinne project ...\n",
              "2822    At the end of March 2009 , the company 's loan...\n",
              "Name: messages, Length: 4846, dtype: object"
            ]
          },
          "metadata": {},
          "execution_count": 18
        }
      ]
    },
    {
      "cell_type": "markdown",
      "source": [
        "## Applying text processing pipeline\n",
        "\n",
        "Applying text processing pipeline on every financial news headline in the dataset and converting the sentences to a list of words inorder to train word embeddings using them."
      ],
      "metadata": {
        "id": "IZKLIUDMZdfW"
      }
    },
    {
      "cell_type": "code",
      "source": [
        "sentences = data.messages.map(lambda text: pipeline(text))\n",
        "train_sentences = [sentence.split() for sentence in sentences]\n",
        "train_sentences[0:3]"
      ],
      "metadata": {
        "id": "KL02-VgAC577"
      },
      "execution_count": null,
      "outputs": []
    },
    {
      "cell_type": "code",
      "source": [
        "sentences"
      ],
      "metadata": {
        "colab": {
          "base_uri": "https://localhost:8080/"
        },
        "id": "_yV-pUlXKq5T",
        "outputId": "1ff61dde-a747-42a3-896b-613789b026f4"
      },
      "execution_count": null,
      "outputs": [
        {
          "output_type": "execute_result",
          "data": {
            "text/plain": [
              "4288           cruise rev fall less engine output require\n",
              "2075    accord real  ceo mikko helander transaction en...\n",
              "4815    operate profit exclude non recur items decreas...\n",
              "3421    corrensponds percent okmetic  share capital vo...\n",
              "3915    total capacity factory approximately engines year\n",
              "                              ...                        \n",
              "3043    neste oil publish third quarter result friday ...\n",
              "2363        meet glisten shareholders vote bid hold march\n",
              "568     appointment kaupthing bank aim co ordinate cap...\n",
              "4350    floor area yliopistonrinne project sq build  g...\n",
              "2822                end march company  loan amount eur mn\n",
              "Name: messages, Length: 4846, dtype: object"
            ]
          },
          "metadata": {},
          "execution_count": 61
        }
      ]
    },
    {
      "cell_type": "markdown",
      "source": [
        "## Embedding Configuration and Training\n",
        "\n",
        "Setting the configurations and training gensim's Word2Vec model on our custom financial news dataset."
      ],
      "metadata": {
        "id": "oeeMrZFJaMKR"
      }
    },
    {
      "cell_type": "code",
      "source": [
        "# iter 1000\n",
        "w2v_model = Word2Vec(train_sentences,\n",
        "                     min_count=3,\n",
        "                     window=4,\n",
        "                     size=300,\n",
        "                     sample=1e-5,\n",
        "                     alpha=0.03,\n",
        "                     min_alpha=0.0007,\n",
        "                     negative=20,\n",
        "                     iter=10000,\n",
        "                     workers=multiprocessing.cpu_count()-1\n",
        "                     )"
      ],
      "metadata": {
        "id": "4kcoH8WFUaUI"
      },
      "execution_count": null,
      "outputs": []
    },
    {
      "cell_type": "markdown",
      "source": [
        "## Assessing Word2Vec model\n",
        "\n",
        "Most similar words for capital were returned as share, disposal, exchange, stock.\n",
        "Most similar words for oil were returned as neste, gas, biodiesel. Neste is an oil refining company."
      ],
      "metadata": {
        "id": "FXI-pKHEa7u4"
      }
    },
    {
      "cell_type": "code",
      "source": [
        "w2v_model.wv.most_similar('capital')"
      ],
      "metadata": {
        "colab": {
          "base_uri": "https://localhost:8080/"
        },
        "id": "cfS0ZNC_GyCt",
        "outputId": "a96f5180-abcd-4bc6-bdfe-a7b3ced66470"
      },
      "execution_count": null,
      "outputs": [
        {
          "output_type": "execute_result",
          "data": {
            "text/plain": [
              "[('share', 0.3540598750114441),\n",
              " ('disposal', 0.31121963262557983),\n",
              " ('exchange', 0.2964023947715759),\n",
              " ('hold', 0.2846112549304962),\n",
              " ('warrant', 0.2731533646583557),\n",
              " ('huhtamaki', 0.2716323733329773),\n",
              " ('investors', 0.2683177590370178),\n",
              " ('vote', 0.264710009098053),\n",
              " ('aggregate', 0.26155152916908264),\n",
              " ('stock', 0.26109758019447327)]"
            ]
          },
          "metadata": {},
          "execution_count": 88
        }
      ]
    },
    {
      "cell_type": "code",
      "source": [
        "w2v_model.wv.most_similar('oil')"
      ],
      "metadata": {
        "colab": {
          "base_uri": "https://localhost:8080/"
        },
        "id": "bKLsRk5KL99c",
        "outputId": "f24646aa-3c62-4075-dfe1-61a9bce2a3e6"
      },
      "execution_count": null,
      "outputs": [
        {
          "output_type": "execute_result",
          "data": {
            "text/plain": [
              "[('neste', 0.6567887663841248),\n",
              " ('gas', 0.44650447368621826),\n",
              " ('biodiesel', 0.3915223777294159),\n",
              " ('palm', 0.34086838364601135),\n",
              " ('nexbtl', 0.3350670635700226),\n",
              " ('tons', 0.31725549697875977),\n",
              " ('refine', 0.31282925605773926),\n",
              " ('fat', 0.31119444966316223),\n",
              " ('vessel', 0.3026620149612427),\n",
              " ('shale', 0.29222363233566284)]"
            ]
          },
          "metadata": {},
          "execution_count": 85
        }
      ]
    }
  ]
}