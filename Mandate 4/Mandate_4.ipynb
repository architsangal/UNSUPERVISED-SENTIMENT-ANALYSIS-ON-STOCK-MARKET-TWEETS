{
  "cells": [
    {
      "cell_type": "markdown",
      "metadata": {
        "id": "EeZsmKAftZl_"
      },
      "source": [
        "# Mandate-4\n",
        "\n",
        "Archit Sangal IMT2019012\\\n",
        "Pratyush Ranjan IMT2019065"
      ]
    },
    {
      "cell_type": "markdown",
      "metadata": {
        "id": "2mq40MOsQ4BB"
      },
      "source": [
        "## Downloading and importing necessary packages"
      ]
    },
    {
      "cell_type": "markdown",
      "metadata": {
        "id": "h5PwfT41bmfz"
      },
      "source": [
        "### Downloading nltk utilities"
      ]
    },
    {
      "cell_type": "code",
      "execution_count": 1,
      "metadata": {
        "id": "BfAPncAY5Z3I"
      },
      "outputs": [
        {
          "name": "stderr",
          "output_type": "stream",
          "text": [
            "[nltk_data] Downloading collection 'all'\n",
            "[nltk_data]    | \n",
            "[nltk_data]    | Downloading package abc to\n",
            "[nltk_data]    |     /home/architsangal/nltk_data...\n",
            "[nltk_data]    |   Package abc is already up-to-date!\n",
            "[nltk_data]    | Downloading package alpino to\n",
            "[nltk_data]    |     /home/architsangal/nltk_data...\n",
            "[nltk_data]    |   Package alpino is already up-to-date!\n",
            "[nltk_data]    | Downloading package averaged_perceptron_tagger to\n",
            "[nltk_data]    |     /home/architsangal/nltk_data...\n",
            "[nltk_data]    |   Package averaged_perceptron_tagger is already up-\n",
            "[nltk_data]    |       to-date!\n",
            "[nltk_data]    | Downloading package averaged_perceptron_tagger_ru to\n",
            "[nltk_data]    |     /home/architsangal/nltk_data...\n",
            "[nltk_data]    |   Package averaged_perceptron_tagger_ru is already\n",
            "[nltk_data]    |       up-to-date!\n",
            "[nltk_data]    | Downloading package basque_grammars to\n",
            "[nltk_data]    |     /home/architsangal/nltk_data...\n",
            "[nltk_data]    |   Package basque_grammars is already up-to-date!\n",
            "[nltk_data]    | Downloading package biocreative_ppi to\n",
            "[nltk_data]    |     /home/architsangal/nltk_data...\n",
            "[nltk_data]    |   Package biocreative_ppi is already up-to-date!\n",
            "[nltk_data]    | Downloading package bllip_wsj_no_aux to\n",
            "[nltk_data]    |     /home/architsangal/nltk_data...\n",
            "[nltk_data]    |   Package bllip_wsj_no_aux is already up-to-date!\n",
            "[nltk_data]    | Downloading package book_grammars to\n",
            "[nltk_data]    |     /home/architsangal/nltk_data...\n",
            "[nltk_data]    |   Package book_grammars is already up-to-date!\n",
            "[nltk_data]    | Downloading package brown to\n",
            "[nltk_data]    |     /home/architsangal/nltk_data...\n",
            "[nltk_data]    |   Package brown is already up-to-date!\n",
            "[nltk_data]    | Downloading package brown_tei to\n",
            "[nltk_data]    |     /home/architsangal/nltk_data...\n",
            "[nltk_data]    |   Package brown_tei is already up-to-date!\n",
            "[nltk_data]    | Downloading package cess_cat to\n",
            "[nltk_data]    |     /home/architsangal/nltk_data...\n",
            "[nltk_data]    |   Package cess_cat is already up-to-date!\n",
            "[nltk_data]    | Downloading package cess_esp to\n",
            "[nltk_data]    |     /home/architsangal/nltk_data...\n",
            "[nltk_data]    |   Package cess_esp is already up-to-date!\n",
            "[nltk_data]    | Downloading package chat80 to\n",
            "[nltk_data]    |     /home/architsangal/nltk_data...\n",
            "[nltk_data]    |   Package chat80 is already up-to-date!\n",
            "[nltk_data]    | Downloading package city_database to\n",
            "[nltk_data]    |     /home/architsangal/nltk_data...\n",
            "[nltk_data]    |   Package city_database is already up-to-date!\n",
            "[nltk_data]    | Downloading package cmudict to\n",
            "[nltk_data]    |     /home/architsangal/nltk_data...\n",
            "[nltk_data]    |   Package cmudict is already up-to-date!\n",
            "[nltk_data]    | Downloading package comparative_sentences to\n",
            "[nltk_data]    |     /home/architsangal/nltk_data...\n",
            "[nltk_data]    |   Package comparative_sentences is already up-to-\n",
            "[nltk_data]    |       date!\n",
            "[nltk_data]    | Downloading package comtrans to\n",
            "[nltk_data]    |     /home/architsangal/nltk_data...\n",
            "[nltk_data]    |   Package comtrans is already up-to-date!\n",
            "[nltk_data]    | Downloading package conll2000 to\n",
            "[nltk_data]    |     /home/architsangal/nltk_data...\n",
            "[nltk_data]    |   Package conll2000 is already up-to-date!\n",
            "[nltk_data]    | Downloading package conll2002 to\n",
            "[nltk_data]    |     /home/architsangal/nltk_data...\n",
            "[nltk_data]    |   Package conll2002 is already up-to-date!\n",
            "[nltk_data]    | Downloading package conll2007 to\n",
            "[nltk_data]    |     /home/architsangal/nltk_data...\n",
            "[nltk_data]    |   Package conll2007 is already up-to-date!\n",
            "[nltk_data]    | Downloading package crubadan to\n",
            "[nltk_data]    |     /home/architsangal/nltk_data...\n",
            "[nltk_data]    |   Package crubadan is already up-to-date!\n",
            "[nltk_data]    | Downloading package dependency_treebank to\n",
            "[nltk_data]    |     /home/architsangal/nltk_data...\n",
            "[nltk_data]    |   Package dependency_treebank is already up-to-date!\n",
            "[nltk_data]    | Downloading package dolch to\n",
            "[nltk_data]    |     /home/architsangal/nltk_data...\n",
            "[nltk_data]    |   Package dolch is already up-to-date!\n",
            "[nltk_data]    | Downloading package europarl_raw to\n",
            "[nltk_data]    |     /home/architsangal/nltk_data...\n",
            "[nltk_data]    |   Package europarl_raw is already up-to-date!\n",
            "[nltk_data]    | Downloading package extended_omw to\n",
            "[nltk_data]    |     /home/architsangal/nltk_data...\n",
            "[nltk_data]    |   Package extended_omw is already up-to-date!\n",
            "[nltk_data]    | Downloading package floresta to\n",
            "[nltk_data]    |     /home/architsangal/nltk_data...\n",
            "[nltk_data]    |   Package floresta is already up-to-date!\n",
            "[nltk_data]    | Downloading package framenet_v15 to\n",
            "[nltk_data]    |     /home/architsangal/nltk_data...\n",
            "[nltk_data]    |   Package framenet_v15 is already up-to-date!\n",
            "[nltk_data]    | Downloading package framenet_v17 to\n",
            "[nltk_data]    |     /home/architsangal/nltk_data...\n",
            "[nltk_data]    |   Package framenet_v17 is already up-to-date!\n",
            "[nltk_data]    | Downloading package gazetteers to\n",
            "[nltk_data]    |     /home/architsangal/nltk_data...\n",
            "[nltk_data]    |   Package gazetteers is already up-to-date!\n",
            "[nltk_data]    | Downloading package genesis to\n",
            "[nltk_data]    |     /home/architsangal/nltk_data...\n",
            "[nltk_data]    |   Package genesis is already up-to-date!\n",
            "[nltk_data]    | Downloading package gutenberg to\n",
            "[nltk_data]    |     /home/architsangal/nltk_data...\n",
            "[nltk_data]    |   Package gutenberg is already up-to-date!\n",
            "[nltk_data]    | Downloading package ieer to\n",
            "[nltk_data]    |     /home/architsangal/nltk_data...\n",
            "[nltk_data]    |   Package ieer is already up-to-date!\n",
            "[nltk_data]    | Downloading package inaugural to\n",
            "[nltk_data]    |     /home/architsangal/nltk_data...\n",
            "[nltk_data]    |   Package inaugural is already up-to-date!\n",
            "[nltk_data]    | Downloading package indian to\n",
            "[nltk_data]    |     /home/architsangal/nltk_data...\n",
            "[nltk_data]    |   Package indian is already up-to-date!\n",
            "[nltk_data]    | Downloading package jeita to\n",
            "[nltk_data]    |     /home/architsangal/nltk_data...\n",
            "[nltk_data]    |   Package jeita is already up-to-date!\n",
            "[nltk_data]    | Downloading package kimmo to\n",
            "[nltk_data]    |     /home/architsangal/nltk_data...\n",
            "[nltk_data]    |   Package kimmo is already up-to-date!\n",
            "[nltk_data]    | Downloading package knbc to\n",
            "[nltk_data]    |     /home/architsangal/nltk_data...\n",
            "[nltk_data]    |   Package knbc is already up-to-date!\n",
            "[nltk_data]    | Downloading package large_grammars to\n",
            "[nltk_data]    |     /home/architsangal/nltk_data...\n",
            "[nltk_data]    |   Package large_grammars is already up-to-date!\n",
            "[nltk_data]    | Downloading package lin_thesaurus to\n",
            "[nltk_data]    |     /home/architsangal/nltk_data...\n",
            "[nltk_data]    |   Package lin_thesaurus is already up-to-date!\n",
            "[nltk_data]    | Downloading package mac_morpho to\n",
            "[nltk_data]    |     /home/architsangal/nltk_data...\n",
            "[nltk_data]    |   Package mac_morpho is already up-to-date!\n",
            "[nltk_data]    | Downloading package machado to\n",
            "[nltk_data]    |     /home/architsangal/nltk_data...\n",
            "[nltk_data]    |   Package machado is already up-to-date!\n",
            "[nltk_data]    | Downloading package masc_tagged to\n",
            "[nltk_data]    |     /home/architsangal/nltk_data...\n",
            "[nltk_data]    |   Package masc_tagged is already up-to-date!\n",
            "[nltk_data]    | Downloading package maxent_ne_chunker to\n",
            "[nltk_data]    |     /home/architsangal/nltk_data...\n",
            "[nltk_data]    |   Package maxent_ne_chunker is already up-to-date!\n",
            "[nltk_data]    | Downloading package maxent_treebank_pos_tagger to\n",
            "[nltk_data]    |     /home/architsangal/nltk_data...\n",
            "[nltk_data]    |   Package maxent_treebank_pos_tagger is already up-\n",
            "[nltk_data]    |       to-date!\n",
            "[nltk_data]    | Downloading package moses_sample to\n",
            "[nltk_data]    |     /home/architsangal/nltk_data...\n",
            "[nltk_data]    |   Package moses_sample is already up-to-date!\n",
            "[nltk_data]    | Downloading package movie_reviews to\n",
            "[nltk_data]    |     /home/architsangal/nltk_data...\n",
            "[nltk_data]    |   Package movie_reviews is already up-to-date!\n",
            "[nltk_data]    | Downloading package mte_teip5 to\n",
            "[nltk_data]    |     /home/architsangal/nltk_data...\n",
            "[nltk_data]    |   Package mte_teip5 is already up-to-date!\n",
            "[nltk_data]    | Downloading package mwa_ppdb to\n",
            "[nltk_data]    |     /home/architsangal/nltk_data...\n",
            "[nltk_data]    |   Package mwa_ppdb is already up-to-date!\n",
            "[nltk_data]    | Downloading package names to\n",
            "[nltk_data]    |     /home/architsangal/nltk_data...\n",
            "[nltk_data]    |   Package names is already up-to-date!\n",
            "[nltk_data]    | Downloading package nombank.1.0 to\n",
            "[nltk_data]    |     /home/architsangal/nltk_data...\n",
            "[nltk_data]    |   Package nombank.1.0 is already up-to-date!\n",
            "[nltk_data]    | Downloading package nonbreaking_prefixes to\n",
            "[nltk_data]    |     /home/architsangal/nltk_data...\n",
            "[nltk_data]    |   Package nonbreaking_prefixes is already up-to-date!\n",
            "[nltk_data]    | Downloading package nps_chat to\n",
            "[nltk_data]    |     /home/architsangal/nltk_data...\n",
            "[nltk_data]    |   Package nps_chat is already up-to-date!\n",
            "[nltk_data]    | Downloading package omw to\n",
            "[nltk_data]    |     /home/architsangal/nltk_data...\n",
            "[nltk_data]    |   Package omw is already up-to-date!\n",
            "[nltk_data]    | Downloading package omw-1.4 to\n",
            "[nltk_data]    |     /home/architsangal/nltk_data...\n",
            "[nltk_data]    |   Package omw-1.4 is already up-to-date!\n",
            "[nltk_data]    | Downloading package opinion_lexicon to\n",
            "[nltk_data]    |     /home/architsangal/nltk_data...\n",
            "[nltk_data]    |   Package opinion_lexicon is already up-to-date!\n",
            "[nltk_data]    | Downloading package panlex_swadesh to\n",
            "[nltk_data]    |     /home/architsangal/nltk_data...\n",
            "[nltk_data]    |   Package panlex_swadesh is already up-to-date!\n",
            "[nltk_data]    | Downloading package paradigms to\n",
            "[nltk_data]    |     /home/architsangal/nltk_data...\n",
            "[nltk_data]    |   Package paradigms is already up-to-date!\n",
            "[nltk_data]    | Downloading package pe08 to\n",
            "[nltk_data]    |     /home/architsangal/nltk_data...\n",
            "[nltk_data]    |   Package pe08 is already up-to-date!\n",
            "[nltk_data]    | Downloading package perluniprops to\n",
            "[nltk_data]    |     /home/architsangal/nltk_data...\n",
            "[nltk_data]    |   Package perluniprops is already up-to-date!\n",
            "[nltk_data]    | Downloading package pil to\n",
            "[nltk_data]    |     /home/architsangal/nltk_data...\n",
            "[nltk_data]    |   Package pil is already up-to-date!\n",
            "[nltk_data]    | Downloading package pl196x to\n",
            "[nltk_data]    |     /home/architsangal/nltk_data...\n",
            "[nltk_data]    |   Package pl196x is already up-to-date!\n",
            "[nltk_data]    | Downloading package porter_test to\n",
            "[nltk_data]    |     /home/architsangal/nltk_data...\n",
            "[nltk_data]    |   Package porter_test is already up-to-date!\n",
            "[nltk_data]    | Downloading package ppattach to\n",
            "[nltk_data]    |     /home/architsangal/nltk_data...\n",
            "[nltk_data]    |   Package ppattach is already up-to-date!\n",
            "[nltk_data]    | Downloading package problem_reports to\n",
            "[nltk_data]    |     /home/architsangal/nltk_data...\n",
            "[nltk_data]    |   Package problem_reports is already up-to-date!\n",
            "[nltk_data]    | Downloading package product_reviews_1 to\n",
            "[nltk_data]    |     /home/architsangal/nltk_data...\n",
            "[nltk_data]    |   Package product_reviews_1 is already up-to-date!\n",
            "[nltk_data]    | Downloading package product_reviews_2 to\n",
            "[nltk_data]    |     /home/architsangal/nltk_data...\n",
            "[nltk_data]    |   Package product_reviews_2 is already up-to-date!\n",
            "[nltk_data]    | Downloading package propbank to\n",
            "[nltk_data]    |     /home/architsangal/nltk_data...\n",
            "[nltk_data]    |   Package propbank is already up-to-date!\n",
            "[nltk_data]    | Downloading package pros_cons to\n",
            "[nltk_data]    |     /home/architsangal/nltk_data...\n",
            "[nltk_data]    |   Package pros_cons is already up-to-date!\n",
            "[nltk_data]    | Downloading package ptb to\n",
            "[nltk_data]    |     /home/architsangal/nltk_data...\n",
            "[nltk_data]    |   Package ptb is already up-to-date!\n",
            "[nltk_data]    | Downloading package punkt to\n",
            "[nltk_data]    |     /home/architsangal/nltk_data...\n",
            "[nltk_data]    |   Package punkt is already up-to-date!\n",
            "[nltk_data]    | Downloading package qc to\n",
            "[nltk_data]    |     /home/architsangal/nltk_data...\n",
            "[nltk_data]    |   Package qc is already up-to-date!\n",
            "[nltk_data]    | Downloading package reuters to\n",
            "[nltk_data]    |     /home/architsangal/nltk_data...\n",
            "[nltk_data]    |   Package reuters is already up-to-date!\n",
            "[nltk_data]    | Downloading package rslp to\n",
            "[nltk_data]    |     /home/architsangal/nltk_data...\n",
            "[nltk_data]    |   Package rslp is already up-to-date!\n",
            "[nltk_data]    | Downloading package rte to\n",
            "[nltk_data]    |     /home/architsangal/nltk_data...\n",
            "[nltk_data]    |   Package rte is already up-to-date!\n",
            "[nltk_data]    | Downloading package sample_grammars to\n",
            "[nltk_data]    |     /home/architsangal/nltk_data...\n",
            "[nltk_data]    |   Package sample_grammars is already up-to-date!\n",
            "[nltk_data]    | Downloading package semcor to\n",
            "[nltk_data]    |     /home/architsangal/nltk_data...\n",
            "[nltk_data]    |   Package semcor is already up-to-date!\n",
            "[nltk_data]    | Downloading package senseval to\n",
            "[nltk_data]    |     /home/architsangal/nltk_data...\n",
            "[nltk_data]    |   Package senseval is already up-to-date!\n",
            "[nltk_data]    | Downloading package sentence_polarity to\n",
            "[nltk_data]    |     /home/architsangal/nltk_data...\n",
            "[nltk_data]    |   Package sentence_polarity is already up-to-date!\n",
            "[nltk_data]    | Downloading package sentiwordnet to\n",
            "[nltk_data]    |     /home/architsangal/nltk_data...\n",
            "[nltk_data]    |   Package sentiwordnet is already up-to-date!\n",
            "[nltk_data]    | Downloading package shakespeare to\n",
            "[nltk_data]    |     /home/architsangal/nltk_data...\n",
            "[nltk_data]    |   Package shakespeare is already up-to-date!\n",
            "[nltk_data]    | Downloading package sinica_treebank to\n",
            "[nltk_data]    |     /home/architsangal/nltk_data...\n",
            "[nltk_data]    |   Package sinica_treebank is already up-to-date!\n",
            "[nltk_data]    | Downloading package smultron to\n",
            "[nltk_data]    |     /home/architsangal/nltk_data...\n",
            "[nltk_data]    |   Package smultron is already up-to-date!\n",
            "[nltk_data]    | Downloading package snowball_data to\n",
            "[nltk_data]    |     /home/architsangal/nltk_data...\n",
            "[nltk_data]    |   Package snowball_data is already up-to-date!\n",
            "[nltk_data]    | Downloading package spanish_grammars to\n",
            "[nltk_data]    |     /home/architsangal/nltk_data...\n",
            "[nltk_data]    |   Package spanish_grammars is already up-to-date!\n",
            "[nltk_data]    | Downloading package state_union to\n",
            "[nltk_data]    |     /home/architsangal/nltk_data...\n",
            "[nltk_data]    |   Package state_union is already up-to-date!\n",
            "[nltk_data]    | Downloading package stopwords to\n",
            "[nltk_data]    |     /home/architsangal/nltk_data...\n",
            "[nltk_data]    |   Package stopwords is already up-to-date!\n",
            "[nltk_data]    | Downloading package subjectivity to\n",
            "[nltk_data]    |     /home/architsangal/nltk_data...\n",
            "[nltk_data]    |   Package subjectivity is already up-to-date!\n",
            "[nltk_data]    | Downloading package swadesh to\n",
            "[nltk_data]    |     /home/architsangal/nltk_data...\n",
            "[nltk_data]    |   Package swadesh is already up-to-date!\n",
            "[nltk_data]    | Downloading package switchboard to\n",
            "[nltk_data]    |     /home/architsangal/nltk_data...\n",
            "[nltk_data]    |   Package switchboard is already up-to-date!\n",
            "[nltk_data]    | Downloading package tagsets to\n",
            "[nltk_data]    |     /home/architsangal/nltk_data...\n",
            "[nltk_data]    |   Package tagsets is already up-to-date!\n",
            "[nltk_data]    | Downloading package timit to\n",
            "[nltk_data]    |     /home/architsangal/nltk_data...\n",
            "[nltk_data]    |   Package timit is already up-to-date!\n",
            "[nltk_data]    | Downloading package toolbox to\n",
            "[nltk_data]    |     /home/architsangal/nltk_data...\n",
            "[nltk_data]    |   Package toolbox is already up-to-date!\n",
            "[nltk_data]    | Downloading package treebank to\n",
            "[nltk_data]    |     /home/architsangal/nltk_data...\n",
            "[nltk_data]    |   Package treebank is already up-to-date!\n",
            "[nltk_data]    | Downloading package twitter_samples to\n",
            "[nltk_data]    |     /home/architsangal/nltk_data...\n",
            "[nltk_data]    |   Package twitter_samples is already up-to-date!\n",
            "[nltk_data]    | Downloading package udhr to\n",
            "[nltk_data]    |     /home/architsangal/nltk_data...\n",
            "[nltk_data]    |   Package udhr is already up-to-date!\n",
            "[nltk_data]    | Downloading package udhr2 to\n",
            "[nltk_data]    |     /home/architsangal/nltk_data...\n",
            "[nltk_data]    |   Package udhr2 is already up-to-date!\n",
            "[nltk_data]    | Downloading package unicode_samples to\n",
            "[nltk_data]    |     /home/architsangal/nltk_data...\n",
            "[nltk_data]    |   Package unicode_samples is already up-to-date!\n",
            "[nltk_data]    | Downloading package universal_tagset to\n",
            "[nltk_data]    |     /home/architsangal/nltk_data...\n",
            "[nltk_data]    |   Package universal_tagset is already up-to-date!\n",
            "[nltk_data]    | Downloading package universal_treebanks_v20 to\n",
            "[nltk_data]    |     /home/architsangal/nltk_data...\n",
            "[nltk_data]    |   Package universal_treebanks_v20 is already up-to-\n",
            "[nltk_data]    |       date!\n",
            "[nltk_data]    | Downloading package vader_lexicon to\n",
            "[nltk_data]    |     /home/architsangal/nltk_data...\n",
            "[nltk_data]    |   Package vader_lexicon is already up-to-date!\n",
            "[nltk_data]    | Downloading package verbnet to\n",
            "[nltk_data]    |     /home/architsangal/nltk_data...\n",
            "[nltk_data]    |   Package verbnet is already up-to-date!\n",
            "[nltk_data]    | Downloading package verbnet3 to\n",
            "[nltk_data]    |     /home/architsangal/nltk_data...\n",
            "[nltk_data]    |   Package verbnet3 is already up-to-date!\n",
            "[nltk_data]    | Downloading package webtext to\n",
            "[nltk_data]    |     /home/architsangal/nltk_data...\n",
            "[nltk_data]    |   Package webtext is already up-to-date!\n",
            "[nltk_data]    | Downloading package wmt15_eval to\n",
            "[nltk_data]    |     /home/architsangal/nltk_data...\n",
            "[nltk_data]    |   Package wmt15_eval is already up-to-date!\n",
            "[nltk_data]    | Downloading package word2vec_sample to\n",
            "[nltk_data]    |     /home/architsangal/nltk_data...\n",
            "[nltk_data]    |   Package word2vec_sample is already up-to-date!\n",
            "[nltk_data]    | Downloading package wordnet to\n",
            "[nltk_data]    |     /home/architsangal/nltk_data...\n",
            "[nltk_data]    |   Package wordnet is already up-to-date!\n",
            "[nltk_data]    | Downloading package wordnet2021 to\n",
            "[nltk_data]    |     /home/architsangal/nltk_data...\n",
            "[nltk_data]    |   Package wordnet2021 is already up-to-date!\n",
            "[nltk_data]    | Downloading package wordnet31 to\n",
            "[nltk_data]    |     /home/architsangal/nltk_data...\n",
            "[nltk_data]    |   Package wordnet31 is already up-to-date!\n",
            "[nltk_data]    | Downloading package wordnet_ic to\n",
            "[nltk_data]    |     /home/architsangal/nltk_data...\n",
            "[nltk_data]    |   Package wordnet_ic is already up-to-date!\n",
            "[nltk_data]    | Downloading package words to\n",
            "[nltk_data]    |     /home/architsangal/nltk_data...\n",
            "[nltk_data]    |   Package words is already up-to-date!\n",
            "[nltk_data]    | Downloading package ycoe to\n",
            "[nltk_data]    |     /home/architsangal/nltk_data...\n",
            "[nltk_data]    |   Package ycoe is already up-to-date!\n",
            "[nltk_data]    | \n",
            "[nltk_data]  Done downloading collection all\n"
          ]
        }
      ],
      "source": [
        "import nltk\n",
        "nltk.download('all')\n",
        "import random\n",
        "random.seed(0)"
      ]
    },
    {
      "cell_type": "markdown",
      "metadata": {
        "id": "TRoAIlGgbr5-"
      },
      "source": [
        "### Downloading contractions library for expanding contractions"
      ]
    },
    {
      "cell_type": "code",
      "execution_count": 2,
      "metadata": {
        "colab": {
          "base_uri": "https://localhost:8080/"
        },
        "id": "DvuYYs0k_Q39",
        "outputId": "56740ecd-fdde-469a-9ef5-8471ea11e8bf"
      },
      "outputs": [
        {
          "name": "stdout",
          "output_type": "stream",
          "text": [
            "Requirement already satisfied: contractions in /home/architsangal/.local/lib/python3.8/site-packages (0.1.72)\n",
            "Requirement already satisfied: textsearch>=0.0.21 in /home/architsangal/.local/lib/python3.8/site-packages (from contractions) (0.0.21)\n",
            "Requirement already satisfied: pyahocorasick in /home/architsangal/.local/lib/python3.8/site-packages (from textsearch>=0.0.21->contractions) (1.4.4)\n",
            "Requirement already satisfied: anyascii in /home/architsangal/.local/lib/python3.8/site-packages (from textsearch>=0.0.21->contractions) (0.3.1)\n"
          ]
        }
      ],
      "source": [
        "!pip install contractions"
      ]
    },
    {
      "cell_type": "markdown",
      "metadata": {
        "id": "KNNl_69pb21a"
      },
      "source": [
        "### Importing required libraries"
      ]
    },
    {
      "cell_type": "code",
      "execution_count": 3,
      "metadata": {
        "id": "RR3g1kPpSHTg"
      },
      "outputs": [],
      "source": [
        "import pandas as pd\n",
        "import numpy as np\n",
        "from textblob import TextBlob\n",
        "import contractions\n",
        "import re\n",
        "from bs4 import BeautifulSoup\n",
        "from nltk.metrics.distance import jaccard_distance\n",
        "from nltk.util import ngrams\n",
        "from gensim.models import Word2Vec\n",
        "from gensim.models import Doc2Vec\n",
        "import multiprocessing\n",
        "from time import time\n",
        "from sklearn.cluster import KMeans"
      ]
    },
    {
      "cell_type": "markdown",
      "metadata": {
        "id": "vj8H4uorRBS5"
      },
      "source": [
        "## Function to remove punctuations\n",
        "\n",
        "This function uses TextBlob to remove punctuations from the given sentence.\n",
        "\n",
        "Input: @nifty crashing heavily, by 20%, due to situation in UKR! #sell #bearish\n",
        "\n",
        "Output: nifty crashing heavily by 20 due to situation in UKR sell bearish"
      ]
    },
    {
      "cell_type": "code",
      "execution_count": 4,
      "metadata": {
        "colab": {
          "base_uri": "https://localhost:8080/",
          "height": 35
        },
        "id": "4s63dOWSTs7g",
        "outputId": "89f657b6-8a29-402d-f4f4-bfc535f4778c"
      },
      "outputs": [
        {
          "data": {
            "text/plain": [
              "'nifty crashing heavily by 20 due to situation in UKR sell bearish'"
            ]
          },
          "execution_count": 4,
          "metadata": {},
          "output_type": "execute_result"
        }
      ],
      "source": [
        "def remove_punctuations(text):\n",
        "    text_blob = TextBlob(text)\n",
        "    return ' '.join(text_blob.words)\n",
        "\n",
        "remove_punctuations(\"@nifty crashing heavily, by 20%, due to situation in UKR! #sell #bearish\")"
      ]
    },
    {
      "cell_type": "markdown",
      "metadata": {
        "id": "lTh_dolFRrqz"
      },
      "source": [
        "## Function to remove stopwords\n",
        "\n",
        "Most common words like a, an, the, by, etc. will be removed through this function.\n",
        "\n",
        "Input: SBI shares fell by nearly 20% after government announced a new bill proposing increased land taxes.\n",
        "\n",
        "Output: SBI shares fell nearly 20% government announced new bill proposing increased land taxes."
      ]
    },
    {
      "cell_type": "code",
      "execution_count": 5,
      "metadata": {
        "colab": {
          "base_uri": "https://localhost:8080/",
          "height": 35
        },
        "id": "LcweyUph5xVN",
        "outputId": "2ffaaeef-48e0-4c8a-d82a-4463394ea44a"
      },
      "outputs": [
        {
          "data": {
            "text/plain": [
              "'SBI shares fell nearly 20% government announced new bill proposing increased land taxes.'"
            ]
          },
          "execution_count": 5,
          "metadata": {},
          "output_type": "execute_result"
        }
      ],
      "source": [
        "stopwords = nltk.corpus.stopwords.words('english')\n",
        "\n",
        "def remove_stopwords(text):\n",
        "    return ' '.join([word for word in text.split() if word.lower() not in stopwords])\n",
        "\n",
        "remove_stopwords(\"SBI shares fell by nearly 20% after government announced a new bill proposing increased land taxes.\")"
      ]
    },
    {
      "cell_type": "markdown",
      "metadata": {
        "id": "wgmbkDjuSEuS"
      },
      "source": [
        "## Function to expand contractions\n",
        "\n",
        "This function expands the contractions in a sentence, such as converting I'll to I will, We'd to We would and so on.\n",
        "\n",
        "Input: If the govn **hadn't** released this surprise bill, **I'd** be sitting with my profits. But unfortunately **I'll** have to sell all of it now. **It's** totally disappointing.\n",
        "\n",
        "Output: If the govn **had not** released this surprise bill, **I would** be sitting with my milllions. But unfortunately **I will** have to sell all of it now. **It is** totally disappointing.\n",
        "\n"
      ]
    },
    {
      "cell_type": "code",
      "execution_count": 6,
      "metadata": {
        "colab": {
          "base_uri": "https://localhost:8080/",
          "height": 53
        },
        "id": "VUBjVA4g_JGT",
        "outputId": "ab52311a-a4fd-490c-a2bf-1c279c961d28"
      },
      "outputs": [
        {
          "data": {
            "text/plain": [
              "'If the govn had not released this surprise bill, I would be sitting with my profits. But unfortunately I will have to sell all of it now. It is totally disappointing.'"
            ]
          },
          "execution_count": 6,
          "metadata": {},
          "output_type": "execute_result"
        }
      ],
      "source": [
        "def expand_contractions(text):\n",
        "    return ' '.join([contractions.fix(word) for word in text.split()])\n",
        "\n",
        "expand_contractions(\"If the govn hadn't released this surprise bill, I'd be sitting with my profits. But unfortunately I'll\\\n",
        " have to sell all of it now. It's totally disappointing.\")"
      ]
    },
    {
      "cell_type": "markdown",
      "metadata": {
        "id": "cAjE7laKS-1B"
      },
      "source": [
        "## Function to lemmatise text\n",
        "This function uses wordnet lemmatiser to lemmatise a given text and it uses verb as part of the speech tag.\n",
        "\n",
        "Input: The stock market is going to rocket sky high today because the penny stocks are shooting up.\n",
        "\n",
        "Output: The stock market be go to rocket sky high today because the penny stock be shoot up."
      ]
    },
    {
      "cell_type": "code",
      "execution_count": 7,
      "metadata": {
        "colab": {
          "base_uri": "https://localhost:8080/",
          "height": 35
        },
        "id": "gstgD1qbBvZi",
        "outputId": "3d901e96-7c6b-414d-d14b-915e14a55ba5"
      },
      "outputs": [
        {
          "data": {
            "text/plain": [
              "'The stock market be go to rocket sky high today because the penny stock be shoot up.'"
            ]
          },
          "execution_count": 7,
          "metadata": {},
          "output_type": "execute_result"
        }
      ],
      "source": [
        "lemmatizer = nltk.stem.wordnet.WordNetLemmatizer()\n",
        "\n",
        "def lemmatize(text):\n",
        "    return ' '.join([lemmatizer.lemmatize(word, 'v') for word in text.split()])\n",
        "\n",
        "lemmatize(\"The stock market is going to rocket sky high today because the penny stocks are shooting up.\")"
      ]
    },
    {
      "cell_type": "markdown",
      "metadata": {
        "id": "lTRR3AMzTtFg"
      },
      "source": [
        "## Function to clean text\n",
        "\n",
        "This function cleans a given text in four steps - \n",
        "\n",
        "\n",
        "1.   Removes any @ tags.\n",
        "2.   Removes any web links.\n",
        "3.   Removes characters other than alphabets, '?' and '!'.\n",
        "4.   Removes extra spaces.\n",
        "\n",
        "Input: What?    I am surprised!   Penny stocks are making people millionares in less than 24hrs.  See yourself! https://youtube.com\n",
        "/pennystocks\n",
        "\n",
        "Output: What? I am surprised! Penny stocks are making people millionares in less than hrs. See yourself!\n",
        "\n"
      ]
    },
    {
      "cell_type": "code",
      "execution_count": 8,
      "metadata": {
        "colab": {
          "base_uri": "https://localhost:8080/",
          "height": 35
        },
        "id": "4Gkdb2yGIR6N",
        "outputId": "41bfa196-475b-479d-bece-11a0733d0712"
      },
      "outputs": [
        {
          "name": "stderr",
          "output_type": "stream",
          "text": [
            "/usr/local/lib/python3.8/dist-packages/bs4/__init__.py:435: MarkupResemblesLocatorWarning: The input looks more like a filename than markup. You may want to open this file and pass the filehandle into Beautiful Soup.\n",
            "  warnings.warn(\n"
          ]
        },
        {
          "data": {
            "text/plain": [
              "'What? I am surprised! Penny stocks are making people millionares in less than hrs. See yourself! '"
            ]
          },
          "execution_count": 8,
          "metadata": {},
          "output_type": "execute_result"
        }
      ],
      "source": [
        "# 1. Remove tags eg: @pratyush\n",
        "# 2. Remove web links eg: https://www.yahoo.com/news/stocks\n",
        "# 3. Remove characters other than alphabets and expression symbols like ?, !\n",
        "# 4. Remove extra spaces\n",
        "def clean(text):\n",
        "    text = BeautifulSoup(text).get_text()\n",
        "    text = re.sub(r\"@[A-Za-z0-9]+\", ' ', text)\n",
        "    text = re.sub(r\"https?://[A-Za-z0-9./]+\", ' ', text)\n",
        "    text = re.sub(r\"[^a-zA-Z.!?']\", ' ', text)\n",
        "    text = re.sub(r\" +\", ' ', text)\n",
        "\n",
        "    return text\n",
        "\n",
        "clean(\"What?   I am surprised!   Penny stocks are making people millionares in less than 24hrs.  See yourself! https://youtube.com\\\n",
        "/pennystocks\")"
      ]
    },
    {
      "cell_type": "markdown",
      "metadata": {
        "id": "clVixumhV3ZO"
      },
      "source": [
        "## Function for spelling correction using Jaccardian Distance\n",
        "\n",
        "When provided a word, this function searches the word in the list of correct words from nltk's word corpus. If no match is found, then the function queries through all the words from the corpus having the same starting letter as the provided word and compares the two using jaccardian distance(ngrams=2). The word with the least jaccardian distance is reutrned as the correct word.\n",
        "\n",
        "Input: I am **delightede** to **anoucnce** **thate** our **comapany** is now listed on Stock **mareket**.\n",
        "\n",
        "Output: I am **delighted** to **announce** **that** our **company** is now listed on Stock **market**."
      ]
    },
    {
      "cell_type": "code",
      "execution_count": 9,
      "metadata": {
        "colab": {
          "base_uri": "https://localhost:8080/",
          "height": 35
        },
        "id": "4PNkoOZveGxO",
        "outputId": "710f6cc5-afe8-46c0-8558-20a0cf197f67"
      },
      "outputs": [
        {
          "data": {
            "text/plain": [
              "'I am delighted to announce that our company is now listed on Stock market'"
            ]
          },
          "execution_count": 9,
          "metadata": {},
          "output_type": "execute_result"
        }
      ],
      "source": [
        "# Spelling correction using Jaccardian Distance\n",
        "\n",
        "correct_words = nltk.corpus.words.words()\n",
        "\n",
        "def correct_spellings_jaccard(text):\n",
        "    word_list = text.split()\n",
        "\n",
        "    for i, word in enumerate(word_list):\n",
        "        word = word.lower()\n",
        "        if word not in correct_words:\n",
        "            scores = {}\n",
        "            for w in correct_words:\n",
        "                if w[0] == word[0]:\n",
        "                    try:\n",
        "                        scores[w] = jaccard_distance( set(ngrams(word, 2)), set(ngrams(w, 2)) )\n",
        "                    except:\n",
        "                        continue\n",
        "            word_list[i] = sorted(scores.items(), key = lambda item: item[1])[0][0] if len(scores) > 0 else word\n",
        "    return ' '.join(word_list)\n",
        "\n",
        "correct_spellings_jaccard('I am delightede to anoucnce thate our comapany is now listed on Stock mareket')"
      ]
    },
    {
      "cell_type": "markdown",
      "metadata": {
        "id": "tjkmwqa2Xn_5"
      },
      "source": [
        "## Text Processing Pipeline\n",
        "\n",
        "Pipeline function to process a given text. It has a total of 9 steps - \n",
        "\n",
        "\n",
        "1.   Converting text to lowercase\n",
        "2.   Cleaning text using clean() function\n",
        "3.   Removing punctuations using remove_punctuations() function\n",
        "4.   Expanding contractions using expand_contractions() function\n",
        "5.   Correcting spellings using jaccardian distance function\n",
        "6.   Removing stopwords using remove_stopwords() function\n",
        "7.   Lemmatising text using lemmatize() function\n",
        "8.   Cleaning text again using clean() to remove some extra spaces created\n",
        "9.   Removing instances of 's in the text\n"
      ]
    },
    {
      "cell_type": "code",
      "execution_count": 10,
      "metadata": {
        "id": "9yfM75hE6dLI"
      },
      "outputs": [],
      "source": [
        "def pipeline(text):\n",
        "    text = text.lower()\n",
        "    text = clean(text)\n",
        "    text = remove_punctuations(text)\n",
        "    text = expand_contractions(text)\n",
        "    #text = correct_spellings_jaccard(text)\n",
        "    text = remove_stopwords(text)\n",
        "    text = lemmatize(text)\n",
        "    text = clean(text)\n",
        "    text = text.replace('\\'s', '')\n",
        "\n",
        "    return text"
      ]
    },
    {
      "cell_type": "markdown",
      "metadata": {
        "id": "wPkscp4fZFqn"
      },
      "source": [
        "## Reading financial news headlines data"
      ]
    },
    {
      "cell_type": "code",
      "execution_count": 11,
      "metadata": {
        "colab": {
          "base_uri": "https://localhost:8080/",
          "height": 424
        },
        "id": "0tDmPgoRBiOx",
        "outputId": "b5deecce-b10a-4b55-98e3-85980f4edf6e"
      },
      "outputs": [],
      "source": [
        "data = pd.read_csv('company.csv')"
      ]
    },
    {
      "cell_type": "markdown",
      "metadata": {
        "id": "FqIJb7GrZL5U"
      },
      "source": [
        "## Data Analysis"
      ]
    },
    {
      "cell_type": "markdown",
      "metadata": {
        "id": "5p7MkqbEZTdQ"
      },
      "source": [
        "### Checking for null entries"
      ]
    },
    {
      "cell_type": "code",
      "execution_count": 12,
      "metadata": {
        "colab": {
          "base_uri": "https://localhost:8080/"
        },
        "id": "Yek5ilNZC2OE",
        "outputId": "7c320037-845d-4f29-f9d6-39627b5de1c1"
      },
      "outputs": [
        {
          "data": {
            "text/plain": [
              "text    0\n",
              "dtype: int64"
            ]
          },
          "execution_count": 12,
          "metadata": {},
          "output_type": "execute_result"
        }
      ],
      "source": [
        "data.isnull().sum()"
      ]
    },
    {
      "cell_type": "markdown",
      "metadata": {
        "id": "T2lI5bYKZYFi"
      },
      "source": [
        "### Analysing financial news headlines"
      ]
    },
    {
      "cell_type": "code",
      "execution_count": 13,
      "metadata": {
        "colab": {
          "base_uri": "https://localhost:8080/"
        },
        "id": "Zc9LhyKoDG4A",
        "outputId": "15f12e5c-79ef-4a82-c908-ad48fd040f9d"
      },
      "outputs": [
        {
          "name": "stdout",
          "output_type": "stream",
          "text": [
            "<class 'pandas.core.frame.DataFrame'>\n"
          ]
        }
      ],
      "source": [
        "print(type(data))"
      ]
    },
    {
      "cell_type": "markdown",
      "metadata": {
        "id": "IZKLIUDMZdfW"
      },
      "source": [
        "## Applying text processing pipeline\n",
        "\n",
        "Applying text processing pipeline on every financial news headline in the dataset and converting the sentences to a list of words inorder to train word embeddings using them."
      ]
    },
    {
      "cell_type": "code",
      "execution_count": 14,
      "metadata": {
        "id": "KL02-VgAC577"
      },
      "outputs": [],
      "source": [
        "sentences = data.text.map(lambda text: pipeline(text))\n",
        "train_sentences = [sentence.split() for sentence in sentences]"
      ]
    },
    {
      "cell_type": "markdown",
      "metadata": {
        "id": "oeeMrZFJaMKR"
      },
      "source": [
        "## Embedding Configuration and Training\n",
        "\n",
        "Setting the configurations and training gensim's Word2Vec model on our custom financial news dataset."
      ]
    },
    {
      "cell_type": "code",
      "execution_count": 15,
      "metadata": {
        "id": "4kcoH8WFUaUI"
      },
      "outputs": [],
      "source": [
        "# iter 1000\n",
        "w2v_model = Word2Vec(train_sentences,\n",
        "                     min_count=3,\n",
        "                     window=4,\n",
        "                     vector_size=100,\n",
        "                     sample=1e-5,\n",
        "                     alpha=0.03,\n",
        "                     min_alpha=0.0007,\n",
        "                     negative=20,\n",
        "                     epochs=1000,\n",
        "                     workers=multiprocessing.cpu_count()-1\n",
        "                     )"
      ]
    },
    {
      "cell_type": "markdown",
      "metadata": {
        "id": "FXI-pKHEa7u4"
      },
      "source": [
        "## Sec2Vec\n",
        "\n",
        "We have word2vec but we would need to code from scratch sen2vec from the vector we get from word2vec. We take out all the vectors from the word2vec model and take the average of the vectors. and store the vector for all the sentences in list 'vectors'."
      ]
    },
    {
      "cell_type": "code",
      "execution_count": 16,
      "metadata": {
        "colab": {
          "base_uri": "https://localhost:8080/"
        },
        "id": "bKLsRk5KL99c",
        "outputId": "f24646aa-3c62-4075-dfe1-61a9bce2a3e6"
      },
      "outputs": [],
      "source": [
        "vectors = []\n",
        "for sentence in train_sentences:\n",
        "    vectors_sentence = [0]*100\n",
        "    size_sen = 0\n",
        "    for word in sentence:\n",
        "        if word in w2v_model.wv.index_to_key:\n",
        "            vector_word = w2v_model.wv.get_vector(word)\n",
        "            size_sen += 1\n",
        "        else:\n",
        "            continue\n",
        "        vectors_sentence = [sum(x) for x in zip(vectors_sentence, vector_word)]\n",
        "    if size_sen != 0:\n",
        "        vectors_sentence = [x/len(sentence) for x in vectors_sentence]\n",
        "    vectors.append(vectors_sentence)"
      ]
    },
    {
      "cell_type": "markdown",
      "metadata": {},
      "source": [
        "## KMEANS Clustering\n",
        "\n",
        "we use kmeans clustering, and we assume that there will be 3 clusters. One for positive tweets, one for negative and one for neutral.\n",
        "\n",
        "We map the clusters to the category by whichever gives us the best result. For example if we have 3 clusters -\n",
        "\n",
        "c1 - 3 pos, 1 neg, 1 neutral\n",
        "\n",
        "c2 - 3 pos, 2 neg, 1 neutral\n",
        "\n",
        "c3 - 3 pos, 1 neg, 2 neutral\n",
        "\n",
        "Best possible pair matching can be c1 - positive cluster, c2 - negative cluster, c3 - neutral cluster. This was done in the folder 'mapping of the class'.\n",
        "\n",
        "Here is the mapping-\n",
        "\n",
        "0 - neutral\n",
        "\n",
        "1 - positive\n",
        "\n",
        "2 - negative"
      ]
    },
    {
      "cell_type": "code",
      "execution_count": 17,
      "metadata": {},
      "outputs": [],
      "source": [
        "from sklearn.cluster import KMeans\n",
        "import numpy as np"
      ]
    },
    {
      "cell_type": "code",
      "execution_count": 18,
      "metadata": {},
      "outputs": [],
      "source": [
        "kmeans = KMeans(n_clusters=3, random_state=0).fit(vectors)"
      ]
    },
    {
      "cell_type": "code",
      "execution_count": 19,
      "metadata": {},
      "outputs": [
        {
          "data": {
            "text/plain": [
              "3"
            ]
          },
          "execution_count": 19,
          "metadata": {},
          "output_type": "execute_result"
        }
      ],
      "source": [
        "len(kmeans.cluster_centers_)"
      ]
    },
    {
      "cell_type": "markdown",
      "metadata": {},
      "source": [
        "## Sentiment\n",
        "\n",
        "sentiment = (count_positive-count_negative)/len(vectors)\n",
        "\n",
        "The above sentiment will vary from [-1 to 1] for the collection of tweets.\n",
        "\n",
        "1  -> being all tweets were positive\n",
        "\n",
        "-1 -> being all tweets were negative\n",
        "\n",
        "0  -> means equal number of positive and negative tweets.\n",
        "\n",
        "0.4 -> Moderately positive sentiment\n",
        "\n",
        "-0.4 -> Moderately negative sentiment\n",
        "\n",
        "This is like a scale of -1 to 1. If the sentiment is 0, it means neutral, if positive, it means sentiment is positive and degree of positiveness is determined linearly by the magnitude of the value recieved and vice versa."
      ]
    },
    {
      "cell_type": "code",
      "execution_count": 20,
      "metadata": {},
      "outputs": [
        {
          "name": "stdout",
          "output_type": "stream",
          "text": [
            "0.41276376737004633\n"
          ]
        }
      ],
      "source": [
        "y_out = kmeans.predict(vectors)\n",
        "count_positive = 0\n",
        "count_negative = 0\n",
        "for i in range(len(vectors)):\n",
        "    if(y_out[i] == 1):\n",
        "        count_positive+=1\n",
        "    elif(y_out[i] == 2):\n",
        "        count_negative+=1\n",
        "print((count_positive-count_negative)/len(vectors))"
      ]
    },
    {
      "cell_type": "markdown",
      "metadata": {},
      "source": [
        "## Saving the Model\n",
        "Saving the model so that it can be used in future if required"
      ]
    },
    {
      "cell_type": "code",
      "execution_count": 21,
      "metadata": {},
      "outputs": [],
      "source": [
        "import pickle\n",
        "with open(\"kmeans.pkl\", \"wb\") as f:\n",
        "    pickle.dump(kmeans, f)"
      ]
    }
  ],
  "metadata": {
    "colab": {
      "name": "Mandate-2.ipynb",
      "provenance": []
    },
    "interpreter": {
      "hash": "916dbcbb3f70747c44a77c7bcd40155683ae19c65e1c03b4aa3499c5328201f1"
    },
    "kernelspec": {
      "display_name": "Python 3.8.10 64-bit",
      "language": "python",
      "name": "python3"
    },
    "language_info": {
      "codemirror_mode": {
        "name": "ipython",
        "version": 3
      },
      "file_extension": ".py",
      "mimetype": "text/x-python",
      "name": "python",
      "nbconvert_exporter": "python",
      "pygments_lexer": "ipython3",
      "version": "3.8.10"
    }
  },
  "nbformat": 4,
  "nbformat_minor": 0
}
